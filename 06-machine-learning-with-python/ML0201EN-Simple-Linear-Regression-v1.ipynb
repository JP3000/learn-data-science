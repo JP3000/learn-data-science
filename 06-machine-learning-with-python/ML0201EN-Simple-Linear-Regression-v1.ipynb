{
 "cells": [
  {
   "cell_type": "markdown",
   "id": "4f0971f2-7004-44a2-b71d-b31a7b2d6955",
   "metadata": {},
   "source": [
    "<p style=\"text-align:center\">\n",
    "    <a href=\"https://skills.network\" target=\"_blank\">\n",
    "    <img src=\"https://cf-courses-data.s3.us.cloud-object-storage.appdomain.cloud/assets/logos/SN_web_lightmode.png\" width=\"200\" alt=\"Skills Network Logo\">\n",
    "    </a>\n",
    "</p>\n",
    "\n",
    "\n",
    "# Simple Linear Regression\n",
    "\n",
    "Estimated time needed: **15** minutes\n",
    "    \n",
    "\n",
    "## Objectives\n",
    "\n",
    "After completing this lab, you will be able to:\n",
    "\n",
    "* Use scikit-learn to implement simple linear regression\n",
    "* Create, train, and test a linear regression model on real data\n"
   ]
  },
  {
   "cell_type": "markdown",
   "id": "66b3e22d-7766-44ad-801a-eb457e84c293",
   "metadata": {},
   "source": [
    "### Import needed packages\n"
   ]
  },
  {
   "cell_type": "markdown",
   "id": "b9f97192-c0ae-460b-8f85-adc973a544b5",
   "metadata": {},
   "source": [
    "For this lab, you will need to have the following packages:\n",
    " - NumPy\n",
    " - Matplotlib\n",
    " - Pandas\n",
    " - Scikit-learn\n",
    "\n",
    "To avoid issues importing these libraries, you may execute the following cell to ensure they are available.\n"
   ]
  },
  {
   "cell_type": "code",
   "execution_count": 1,
   "id": "b573df62-3cc4-42af-9431-55ff25b67f89",
   "metadata": {},
   "outputs": [],
   "source": [
    "# !pip install numpy==2.2.0\n",
    "# !pip install pandas==2.2.3\n",
    "# !pip install scikit-learn==1.6.0\n",
    "# !pip install matplotlib==3.9.3"
   ]
  },
  {
   "cell_type": "markdown",
   "id": "58714e3d-41c5-4a67-846d-0311f00d443f",
   "metadata": {},
   "source": [
    "Now, you can import these libraries.\n"
   ]
  },
  {
   "cell_type": "code",
   "execution_count": 2,
   "id": "cf9644c1-b86a-4736-a74f-db923748bcb8",
   "metadata": {},
   "outputs": [],
   "source": [
    "import numpy as np\n",
    "import matplotlib.pyplot as plt\n",
    "import pandas as pd\n",
    "# %matplotlib inline"
   ]
  },
  {
   "cell_type": "markdown",
   "id": "80742159-5daf-4e43-a38c-3571ab72b137",
   "metadata": {},
   "source": [
    "## Load the data\n",
    "The dataset you will use resides at the following URL. You can use the URL directly with the Pandas library to load the dataset.\n"
   ]
  },
  {
   "cell_type": "code",
   "execution_count": 3,
   "id": "eebc5414-0c73-4353-a908-42300181ebd0",
   "metadata": {},
   "outputs": [],
   "source": [
    "url= \"https://cf-courses-data.s3.us.cloud-object-storage.appdomain.cloud/IBMDeveloperSkillsNetwork-ML0101EN-SkillsNetwork/labs/Module%202/data/FuelConsumptionCo2.csv\""
   ]
  },
  {
   "cell_type": "code",
   "execution_count": 4,
   "id": "bd4b9004-64f0-493f-9f43-d295377b5497",
   "metadata": {},
   "outputs": [],
   "source": [
    "df=pd.read_csv(url)"
   ]
  },
  {
   "cell_type": "code",
   "execution_count": 5,
   "id": "368903b1-70bf-47aa-a5dd-744198d42f82",
   "metadata": {},
   "outputs": [
    {
     "data": {
      "text/html": [
       "<div>\n",
       "<style scoped>\n",
       "    .dataframe tbody tr th:only-of-type {\n",
       "        vertical-align: middle;\n",
       "    }\n",
       "\n",
       "    .dataframe tbody tr th {\n",
       "        vertical-align: top;\n",
       "    }\n",
       "\n",
       "    .dataframe thead th {\n",
       "        text-align: right;\n",
       "    }\n",
       "</style>\n",
       "<table border=\"1\" class=\"dataframe\">\n",
       "  <thead>\n",
       "    <tr style=\"text-align: right;\">\n",
       "      <th></th>\n",
       "      <th>MODELYEAR</th>\n",
       "      <th>MAKE</th>\n",
       "      <th>MODEL</th>\n",
       "      <th>VEHICLECLASS</th>\n",
       "      <th>ENGINESIZE</th>\n",
       "      <th>CYLINDERS</th>\n",
       "      <th>TRANSMISSION</th>\n",
       "      <th>FUELTYPE</th>\n",
       "      <th>FUELCONSUMPTION_CITY</th>\n",
       "      <th>FUELCONSUMPTION_HWY</th>\n",
       "      <th>FUELCONSUMPTION_COMB</th>\n",
       "      <th>FUELCONSUMPTION_COMB_MPG</th>\n",
       "      <th>CO2EMISSIONS</th>\n",
       "    </tr>\n",
       "  </thead>\n",
       "  <tbody>\n",
       "    <tr>\n",
       "      <th>137</th>\n",
       "      <td>2014</td>\n",
       "      <td>BMW</td>\n",
       "      <td>Z4 sDRIVE35i</td>\n",
       "      <td>TWO-SEATER</td>\n",
       "      <td>3.0</td>\n",
       "      <td>6</td>\n",
       "      <td>AM7</td>\n",
       "      <td>Z</td>\n",
       "      <td>13.7</td>\n",
       "      <td>10.1</td>\n",
       "      <td>12.1</td>\n",
       "      <td>23</td>\n",
       "      <td>278</td>\n",
       "    </tr>\n",
       "    <tr>\n",
       "      <th>827</th>\n",
       "      <td>2014</td>\n",
       "      <td>MITSUBISHI</td>\n",
       "      <td>OUTLANDER 4WD</td>\n",
       "      <td>SUV - SMALL</td>\n",
       "      <td>2.4</td>\n",
       "      <td>4</td>\n",
       "      <td>AV6</td>\n",
       "      <td>X</td>\n",
       "      <td>9.9</td>\n",
       "      <td>8.1</td>\n",
       "      <td>9.1</td>\n",
       "      <td>31</td>\n",
       "      <td>209</td>\n",
       "    </tr>\n",
       "    <tr>\n",
       "      <th>308</th>\n",
       "      <td>2014</td>\n",
       "      <td>DODGE</td>\n",
       "      <td>CHARGER AWD FFV</td>\n",
       "      <td>FULL-SIZE</td>\n",
       "      <td>3.6</td>\n",
       "      <td>6</td>\n",
       "      <td>A8</td>\n",
       "      <td>E</td>\n",
       "      <td>17.3</td>\n",
       "      <td>11.7</td>\n",
       "      <td>14.8</td>\n",
       "      <td>19</td>\n",
       "      <td>237</td>\n",
       "    </tr>\n",
       "    <tr>\n",
       "      <th>714</th>\n",
       "      <td>2014</td>\n",
       "      <td>MAZDA</td>\n",
       "      <td>MAZDA5</td>\n",
       "      <td>MINIVAN</td>\n",
       "      <td>2.5</td>\n",
       "      <td>4</td>\n",
       "      <td>M6</td>\n",
       "      <td>X</td>\n",
       "      <td>11.1</td>\n",
       "      <td>8.3</td>\n",
       "      <td>9.8</td>\n",
       "      <td>29</td>\n",
       "      <td>225</td>\n",
       "    </tr>\n",
       "    <tr>\n",
       "      <th>535</th>\n",
       "      <td>2014</td>\n",
       "      <td>INFINITI</td>\n",
       "      <td>Q70</td>\n",
       "      <td>MID-SIZE</td>\n",
       "      <td>3.7</td>\n",
       "      <td>6</td>\n",
       "      <td>AS7</td>\n",
       "      <td>Z</td>\n",
       "      <td>12.8</td>\n",
       "      <td>8.9</td>\n",
       "      <td>11.0</td>\n",
       "      <td>26</td>\n",
       "      <td>253</td>\n",
       "    </tr>\n",
       "  </tbody>\n",
       "</table>\n",
       "</div>"
      ],
      "text/plain": [
       "     MODELYEAR        MAKE            MODEL VEHICLECLASS  ENGINESIZE  \\\n",
       "137       2014         BMW     Z4 sDRIVE35i   TWO-SEATER         3.0   \n",
       "827       2014  MITSUBISHI    OUTLANDER 4WD  SUV - SMALL         2.4   \n",
       "308       2014       DODGE  CHARGER AWD FFV    FULL-SIZE         3.6   \n",
       "714       2014       MAZDA           MAZDA5      MINIVAN         2.5   \n",
       "535       2014    INFINITI              Q70     MID-SIZE         3.7   \n",
       "\n",
       "     CYLINDERS TRANSMISSION FUELTYPE  FUELCONSUMPTION_CITY  \\\n",
       "137          6          AM7        Z                  13.7   \n",
       "827          4          AV6        X                   9.9   \n",
       "308          6           A8        E                  17.3   \n",
       "714          4           M6        X                  11.1   \n",
       "535          6          AS7        Z                  12.8   \n",
       "\n",
       "     FUELCONSUMPTION_HWY  FUELCONSUMPTION_COMB  FUELCONSUMPTION_COMB_MPG  \\\n",
       "137                 10.1                  12.1                        23   \n",
       "827                  8.1                   9.1                        31   \n",
       "308                 11.7                  14.8                        19   \n",
       "714                  8.3                   9.8                        29   \n",
       "535                  8.9                  11.0                        26   \n",
       "\n",
       "     CO2EMISSIONS  \n",
       "137           278  \n",
       "827           209  \n",
       "308           237  \n",
       "714           225  \n",
       "535           253  "
      ]
     },
     "execution_count": 5,
     "metadata": {},
     "output_type": "execute_result"
    }
   ],
   "source": [
    "# verify successful load with some randomly selected records\n",
    "df.sample(5)"
   ]
  },
  {
   "cell_type": "markdown",
   "id": "c3021495-97bf-4cfd-91a5-43a22bb155b2",
   "metadata": {},
   "source": [
    "\n",
    "## Understand the data\n",
    "\n",
    "### `FuelConsumption.csv`:\n",
    "You will use a fuel consumption dataset, **`FuelConsumption.csv`**, which contains model-specific fuel consumption ratings and estimated carbon dioxide emissions for new light-duty vehicles for retail sale in Canada. [Dataset source](http://open.canada.ca/data/en/dataset/98f1a129-f628-4ce4-b24d-6f16bf24dd64).\n",
    "\n",
    "- **MODEL YEAR** e.g. 2014\n",
    "- **MAKE** e.g. VOLVO\n",
    "- **MODEL** e.g. S60 AWD\n",
    "- **VEHICLE CLASS** e.g. COMPACT\n",
    "- **ENGINE SIZE** e.g. 3.0\n",
    "- **CYLINDERS** e.g 6\n",
    "- **TRANSMISSION** e.g. AS6\n",
    "- **FUEL TYPE** e.g. Z\n",
    "- **FUEL CONSUMPTION in CITY(L/100 km)** e.g. 13.2\n",
    "- **FUEL CONSUMPTION in HWY (L/100 km)** e.g. 9.5\n",
    "- **FUEL CONSUMPTION COMBINED (L/100 km)** e.g. 11.5\n",
    "- **FUEL CONSUMPTION COMBINED MPG (MPG)** e.g. 25\n",
    "- **CO2 EMISSIONS (g/km)** e.g. 182 \n",
    "\n",
    "Your task will be to create a simple linear regression model from one of these features to predict CO2 emissions of unobserved cars based on that feature. \n"
   ]
  },
  {
   "cell_type": "markdown",
   "id": "3b658e9f-c2ef-4def-ad5c-d3bb1ee9b77b",
   "metadata": {},
   "source": [
    "### Explore the data\n",
    "First, consider a statistical summary of the data.\n"
   ]
  },
  {
   "cell_type": "code",
   "execution_count": 6,
   "id": "4f44c3f1-581a-4dec-9c2a-3ed866d4d530",
   "metadata": {},
   "outputs": [
    {
     "data": {
      "text/html": [
       "<div>\n",
       "<style scoped>\n",
       "    .dataframe tbody tr th:only-of-type {\n",
       "        vertical-align: middle;\n",
       "    }\n",
       "\n",
       "    .dataframe tbody tr th {\n",
       "        vertical-align: top;\n",
       "    }\n",
       "\n",
       "    .dataframe thead th {\n",
       "        text-align: right;\n",
       "    }\n",
       "</style>\n",
       "<table border=\"1\" class=\"dataframe\">\n",
       "  <thead>\n",
       "    <tr style=\"text-align: right;\">\n",
       "      <th></th>\n",
       "      <th>MODELYEAR</th>\n",
       "      <th>ENGINESIZE</th>\n",
       "      <th>CYLINDERS</th>\n",
       "      <th>FUELCONSUMPTION_CITY</th>\n",
       "      <th>FUELCONSUMPTION_HWY</th>\n",
       "      <th>FUELCONSUMPTION_COMB</th>\n",
       "      <th>FUELCONSUMPTION_COMB_MPG</th>\n",
       "      <th>CO2EMISSIONS</th>\n",
       "    </tr>\n",
       "  </thead>\n",
       "  <tbody>\n",
       "    <tr>\n",
       "      <th>count</th>\n",
       "      <td>1067.0</td>\n",
       "      <td>1067.000000</td>\n",
       "      <td>1067.000000</td>\n",
       "      <td>1067.000000</td>\n",
       "      <td>1067.000000</td>\n",
       "      <td>1067.000000</td>\n",
       "      <td>1067.000000</td>\n",
       "      <td>1067.000000</td>\n",
       "    </tr>\n",
       "    <tr>\n",
       "      <th>mean</th>\n",
       "      <td>2014.0</td>\n",
       "      <td>3.346298</td>\n",
       "      <td>5.794752</td>\n",
       "      <td>13.296532</td>\n",
       "      <td>9.474602</td>\n",
       "      <td>11.580881</td>\n",
       "      <td>26.441425</td>\n",
       "      <td>256.228679</td>\n",
       "    </tr>\n",
       "    <tr>\n",
       "      <th>std</th>\n",
       "      <td>0.0</td>\n",
       "      <td>1.415895</td>\n",
       "      <td>1.797447</td>\n",
       "      <td>4.101253</td>\n",
       "      <td>2.794510</td>\n",
       "      <td>3.485595</td>\n",
       "      <td>7.468702</td>\n",
       "      <td>63.372304</td>\n",
       "    </tr>\n",
       "    <tr>\n",
       "      <th>min</th>\n",
       "      <td>2014.0</td>\n",
       "      <td>1.000000</td>\n",
       "      <td>3.000000</td>\n",
       "      <td>4.600000</td>\n",
       "      <td>4.900000</td>\n",
       "      <td>4.700000</td>\n",
       "      <td>11.000000</td>\n",
       "      <td>108.000000</td>\n",
       "    </tr>\n",
       "    <tr>\n",
       "      <th>25%</th>\n",
       "      <td>2014.0</td>\n",
       "      <td>2.000000</td>\n",
       "      <td>4.000000</td>\n",
       "      <td>10.250000</td>\n",
       "      <td>7.500000</td>\n",
       "      <td>9.000000</td>\n",
       "      <td>21.000000</td>\n",
       "      <td>207.000000</td>\n",
       "    </tr>\n",
       "    <tr>\n",
       "      <th>50%</th>\n",
       "      <td>2014.0</td>\n",
       "      <td>3.400000</td>\n",
       "      <td>6.000000</td>\n",
       "      <td>12.600000</td>\n",
       "      <td>8.800000</td>\n",
       "      <td>10.900000</td>\n",
       "      <td>26.000000</td>\n",
       "      <td>251.000000</td>\n",
       "    </tr>\n",
       "    <tr>\n",
       "      <th>75%</th>\n",
       "      <td>2014.0</td>\n",
       "      <td>4.300000</td>\n",
       "      <td>8.000000</td>\n",
       "      <td>15.550000</td>\n",
       "      <td>10.850000</td>\n",
       "      <td>13.350000</td>\n",
       "      <td>31.000000</td>\n",
       "      <td>294.000000</td>\n",
       "    </tr>\n",
       "    <tr>\n",
       "      <th>max</th>\n",
       "      <td>2014.0</td>\n",
       "      <td>8.400000</td>\n",
       "      <td>12.000000</td>\n",
       "      <td>30.200000</td>\n",
       "      <td>20.500000</td>\n",
       "      <td>25.800000</td>\n",
       "      <td>60.000000</td>\n",
       "      <td>488.000000</td>\n",
       "    </tr>\n",
       "  </tbody>\n",
       "</table>\n",
       "</div>"
      ],
      "text/plain": [
       "       MODELYEAR   ENGINESIZE    CYLINDERS  FUELCONSUMPTION_CITY  \\\n",
       "count     1067.0  1067.000000  1067.000000           1067.000000   \n",
       "mean      2014.0     3.346298     5.794752             13.296532   \n",
       "std          0.0     1.415895     1.797447              4.101253   \n",
       "min       2014.0     1.000000     3.000000              4.600000   \n",
       "25%       2014.0     2.000000     4.000000             10.250000   \n",
       "50%       2014.0     3.400000     6.000000             12.600000   \n",
       "75%       2014.0     4.300000     8.000000             15.550000   \n",
       "max       2014.0     8.400000    12.000000             30.200000   \n",
       "\n",
       "       FUELCONSUMPTION_HWY  FUELCONSUMPTION_COMB  FUELCONSUMPTION_COMB_MPG  \\\n",
       "count          1067.000000           1067.000000               1067.000000   \n",
       "mean              9.474602             11.580881                 26.441425   \n",
       "std               2.794510              3.485595                  7.468702   \n",
       "min               4.900000              4.700000                 11.000000   \n",
       "25%               7.500000              9.000000                 21.000000   \n",
       "50%               8.800000             10.900000                 26.000000   \n",
       "75%              10.850000             13.350000                 31.000000   \n",
       "max              20.500000             25.800000                 60.000000   \n",
       "\n",
       "       CO2EMISSIONS  \n",
       "count   1067.000000  \n",
       "mean     256.228679  \n",
       "std       63.372304  \n",
       "min      108.000000  \n",
       "25%      207.000000  \n",
       "50%      251.000000  \n",
       "75%      294.000000  \n",
       "max      488.000000  "
      ]
     },
     "execution_count": 6,
     "metadata": {},
     "output_type": "execute_result"
    }
   ],
   "source": [
    "df.describe()"
   ]
  },
  {
   "cell_type": "markdown",
   "id": "2786b871-db12-4980-80ec-3a23c409a3c7",
   "metadata": {},
   "source": [
    "You can see from the statistics here that 75% of the cars have a combined fuel consumption falling within a range of up to almost three times that of the most efficient car, with respective values of 31 MPG and 11 MPG. \n",
    "\n",
    "The highest fuel consumer at 60 MPG is suspiciously high but could be legitimate.\n",
    "\n",
    "MODELYEAR has 0 standard deviation, and thus has no interesting information content.\n"
   ]
  },
  {
   "cell_type": "markdown",
   "id": "67269f4f-c7b7-4f3a-b855-a9f771b171f9",
   "metadata": {},
   "source": [
    "#### Select features\n",
    "Select a few features that might be indicative of CO2 emission to explore more.\n"
   ]
  },
  {
   "cell_type": "code",
   "execution_count": 7,
   "id": "ad327b15-d1cb-4212-82b5-a73e33bba60b",
   "metadata": {},
   "outputs": [
    {
     "data": {
      "text/html": [
       "<div>\n",
       "<style scoped>\n",
       "    .dataframe tbody tr th:only-of-type {\n",
       "        vertical-align: middle;\n",
       "    }\n",
       "\n",
       "    .dataframe tbody tr th {\n",
       "        vertical-align: top;\n",
       "    }\n",
       "\n",
       "    .dataframe thead th {\n",
       "        text-align: right;\n",
       "    }\n",
       "</style>\n",
       "<table border=\"1\" class=\"dataframe\">\n",
       "  <thead>\n",
       "    <tr style=\"text-align: right;\">\n",
       "      <th></th>\n",
       "      <th>ENGINESIZE</th>\n",
       "      <th>CYLINDERS</th>\n",
       "      <th>FUELCONSUMPTION_COMB</th>\n",
       "      <th>CO2EMISSIONS</th>\n",
       "    </tr>\n",
       "  </thead>\n",
       "  <tbody>\n",
       "    <tr>\n",
       "      <th>942</th>\n",
       "      <td>2.0</td>\n",
       "      <td>4</td>\n",
       "      <td>8.5</td>\n",
       "      <td>196</td>\n",
       "    </tr>\n",
       "    <tr>\n",
       "      <th>362</th>\n",
       "      <td>5.4</td>\n",
       "      <td>8</td>\n",
       "      <td>21.6</td>\n",
       "      <td>346</td>\n",
       "    </tr>\n",
       "    <tr>\n",
       "      <th>612</th>\n",
       "      <td>2.0</td>\n",
       "      <td>4</td>\n",
       "      <td>8.6</td>\n",
       "      <td>198</td>\n",
       "    </tr>\n",
       "    <tr>\n",
       "      <th>233</th>\n",
       "      <td>2.0</td>\n",
       "      <td>4</td>\n",
       "      <td>9.9</td>\n",
       "      <td>228</td>\n",
       "    </tr>\n",
       "    <tr>\n",
       "      <th>531</th>\n",
       "      <td>3.7</td>\n",
       "      <td>6</td>\n",
       "      <td>11.7</td>\n",
       "      <td>269</td>\n",
       "    </tr>\n",
       "    <tr>\n",
       "      <th>403</th>\n",
       "      <td>2.0</td>\n",
       "      <td>4</td>\n",
       "      <td>7.8</td>\n",
       "      <td>179</td>\n",
       "    </tr>\n",
       "    <tr>\n",
       "      <th>249</th>\n",
       "      <td>1.8</td>\n",
       "      <td>4</td>\n",
       "      <td>8.3</td>\n",
       "      <td>191</td>\n",
       "    </tr>\n",
       "    <tr>\n",
       "      <th>694</th>\n",
       "      <td>2.0</td>\n",
       "      <td>4</td>\n",
       "      <td>8.2</td>\n",
       "      <td>189</td>\n",
       "    </tr>\n",
       "    <tr>\n",
       "      <th>632</th>\n",
       "      <td>2.4</td>\n",
       "      <td>4</td>\n",
       "      <td>10.7</td>\n",
       "      <td>246</td>\n",
       "    </tr>\n",
       "  </tbody>\n",
       "</table>\n",
       "</div>"
      ],
      "text/plain": [
       "     ENGINESIZE  CYLINDERS  FUELCONSUMPTION_COMB  CO2EMISSIONS\n",
       "942         2.0          4                   8.5           196\n",
       "362         5.4          8                  21.6           346\n",
       "612         2.0          4                   8.6           198\n",
       "233         2.0          4                   9.9           228\n",
       "531         3.7          6                  11.7           269\n",
       "403         2.0          4                   7.8           179\n",
       "249         1.8          4                   8.3           191\n",
       "694         2.0          4                   8.2           189\n",
       "632         2.4          4                  10.7           246"
      ]
     },
     "execution_count": 7,
     "metadata": {},
     "output_type": "execute_result"
    }
   ],
   "source": [
    "cdf = df[['ENGINESIZE','CYLINDERS','FUELCONSUMPTION_COMB','CO2EMISSIONS']]\n",
    "cdf.sample(9)"
   ]
  },
  {
   "cell_type": "markdown",
   "id": "0a76d48a-1deb-4c84-be8e-50928d8d3e88",
   "metadata": {},
   "source": [
    "#### Visualize features\n",
    "Consider the histograms for each of these features.\n"
   ]
  },
  {
   "cell_type": "code",
   "execution_count": 8,
   "id": "2b3c5c5e-3033-4eed-9b46-2851f3ead22b",
   "metadata": {},
   "outputs": [
    {
     "data": {
      "image/png": "[encoded data removed]",
      "text/plain": [
       "<Figure size 640x480 with 4 Axes>"
      ]
     },
     "metadata": {},
     "output_type": "display_data"
    }
   ],
   "source": [
    "viz = cdf[['CYLINDERS','ENGINESIZE','FUELCONSUMPTION_COMB','CO2EMISSIONS']]\n",
    "viz.hist()\n",
    "plt.show()"
   ]
  },
  {
   "cell_type": "markdown",
   "id": "c27ab497-a4dd-460f-a6d2-c289a69e0c1c",
   "metadata": {},
   "source": [
    "As you can see, most engines have 4, 6, or 8 cylinders, and engine sizes between 2 and 4 liters.  \n",
    "As you might expect, combined fuel consumption and CO2 emission have very similar distributions.  \n",
    "Go ahead and display some scatter plots of these features against the CO2 emissions, to see how linear their relationships are.\n"
   ]
  },
  {
   "cell_type": "code",
   "execution_count": 9,
   "id": "c0141c3e-3439-4893-98f7-55f1a01dfe53",
   "metadata": {},
   "outputs": [
    {
     "data": {
      "image/png": "[encoded data removed]",
      "text/plain": [
       "<Figure size 640x480 with 1 Axes>"
      ]
     },
     "metadata": {},
     "output_type": "display_data"
    }
   ],
   "source": [
    "plt.scatter(cdf.FUELCONSUMPTION_COMB, cdf.CO2EMISSIONS,  color='blue')\n",
    "plt.xlabel(\"FUELCONSUMPTION_COMB\")\n",
    "plt.ylabel(\"Emission\")\n",
    "plt.show()"
   ]
  },
  {
   "cell_type": "markdown",
   "id": "e517eaf5-adad-4b27-9cc8-6a4b6c70835f",
   "metadata": {},
   "source": [
    "This is an informative result. Three car groups each have a strong linear relationship between their combined fuel consumption and their CO2 emissions. \n",
    "Their intercepts are similar, while they noticeably differ in their slopes.\n"
   ]
  },
  {
   "cell_type": "code",
   "execution_count": 10,
   "id": "b8c4d6cc-8a48-47c0-8f12-f6e8198df2dd",
   "metadata": {},
   "outputs": [
    {
     "data": {
      "image/png": "[encoded data removed]",
      "text/plain": [
       "<Figure size 640x480 with 1 Axes>"
      ]
     },
     "metadata": {},
     "output_type": "display_data"
    }
   ],
   "source": [
    "plt.scatter(cdf.ENGINESIZE, cdf.CO2EMISSIONS,  color='blue')\n",
    "plt.xlabel(\"Engine size\")\n",
    "plt.ylabel(\"Emission\")\n",
    "plt.xlim(0,27)\n",
    "plt.show()"
   ]
  },
  {
   "cell_type": "markdown",
   "id": "d37ff0ca-284c-46d3-9455-1e378cf44074",
   "metadata": {},
   "source": [
    "Although the relationship between engine size and CO2 emission is quite linear, you can see that their correlation is weaker than that for each of the three fuel consumption groups. Notice that the x-axis range has been expanded to make the two plots more comparable.\n"
   ]
  },
  {
   "cell_type": "markdown",
   "id": "0be1eb70-4ba4-4c2c-b783-46cd33b53e22",
   "metadata": {},
   "source": [
    "#### Practice excercise 1\n",
    "Plot __CYLINDER__ against CO2 Emission, to see how linear their relationship is.\n"
   ]
  },
  {
   "cell_type": "code",
   "execution_count": 11,
   "id": "548c248e-1824-44ad-a0ae-72a2f2567ce0",
   "metadata": {},
   "outputs": [
    {
     "data": {
      "image/png": "[encoded data removed]",
      "text/plain": [
       "<Figure size 640x480 with 1 Axes>"
      ]
     },
     "metadata": {},
     "output_type": "display_data"
    }
   ],
   "source": [
    "# write your code here\n",
    "plt.scatter(cdf.CYLINDERS, cdf.CO2EMISSIONS,  color='blue')\n",
    "plt.xlabel(\"CYLINDERS\")\n",
    "plt.ylabel(\"CO2 Emission\")\n",
    "plt.show()"
   ]
  },
  {
   "cell_type": "markdown",
   "id": "607f69f9-f126-4f60-8f2d-6afe22563913",
   "metadata": {},
   "source": [
    "<details><summary>Click here for the solution</summary>\n",
    "\n",
    "```python    \n",
    "plt.scatter(cdf.CYLINDERS, cdf.CO2EMISSIONS,  color='blue')\n",
    "plt.xlabel(\"CYLINDERS\")\n",
    "plt.ylabel(\"CO2 Emission\")\n",
    "plt.show()\n",
    "\n",
    "```\n",
    "\n",
    "</details>\n"
   ]
  },
  {
   "cell_type": "markdown",
   "id": "7252e8af-1033-4608-9719-e2dd00bc3603",
   "metadata": {},
   "source": [
    "### Extract the input feature and labels from the dataset\n",
    "Although perhaps not necessarily the ideal choice of input feature, for illustration purposes, you will use engine size to predict CO2 emission with a linear regression model.  \n",
    "You can begin the process by extracting the input feature and target output variables, X and y, from the dataset.\n"
   ]
  },
  {
   "cell_type": "code",
   "execution_count": 12,
   "id": "9d02592e-5cdd-438a-82e6-095a837e4f6e",
   "metadata": {},
   "outputs": [],
   "source": [
    "X = cdf.ENGINESIZE.to_numpy()\n",
    "y = cdf.CO2EMISSIONS.to_numpy()"
   ]
  },
  {
   "cell_type": "markdown",
   "id": "efa47658-3e6a-45f9-95f2-ed8a8ee78311",
   "metadata": {},
   "source": [
    "#### Create train and test datasets\n",
    "Next, you will split the dataset into mutually exclusive training and testing sets. You will train a simple linear regression model on the training set and estimate its ability to generalize to unseen data by using it to make predictions on the unseen testing data. \n",
    "\n",
    "Since the outcome of each data point is part of the testing data, you have a means of evaluating the out-of-sample accuracy of your model.\n",
    "\n",
    "Now, you want to randomly split your data into train and test sets, using 80% of the dataset for training and reserving the remaining 20% for testing. Which fraction to use here mostly depends on the size of your data, but typical training sizes range from 20% to 30%. The smaller your data, the larger your training set needs to be because it's easier to find spurious patterns in smaller data. The downside is that your evaluation of generalizability will have less reliability. Bigger is better when it comes to data.\n"
   ]
  },
  {
   "cell_type": "code",
   "execution_count": 13,
   "id": "3925e645-b538-4542-8146-40410c637be6",
   "metadata": {},
   "outputs": [],
   "source": [
    "from sklearn.model_selection import train_test_split\n",
    "\n",
    "X_train, X_test, y_train, y_test = train_test_split(X,y,test_size=0.2,random_state=42)"
   ]
  },
  {
   "cell_type": "markdown",
   "id": "7f552602-d168-47c7-a10b-70692fb1c826",
   "metadata": {},
   "source": [
    "The outputs are one-dimensional NumPy arrays or vectors.\n"
   ]
  },
  {
   "cell_type": "code",
   "execution_count": 14,
   "id": "d4b90ca1-5d83-4f87-ad60-c2fe1d3b54ca",
   "metadata": {},
   "outputs": [
    {
     "data": {
      "text/plain": [
       "(numpy.ndarray, (853,), (853,))"
      ]
     },
     "execution_count": 14,
     "metadata": {},
     "output_type": "execute_result"
    }
   ],
   "source": [
    "type(X_train), np.shape(X_train), np.shape(X_train)"
   ]
  },
  {
   "cell_type": "markdown",
   "id": "79f21e6e-c3e5-44b3-b2cd-0f0cf9d99008",
   "metadata": {},
   "source": [
    "### Build a simple linear regression model\n",
    "\n",
    "You'll use scikit-learn to build your model as follows. See [Scikit-Learn Linear Regression documentation](https://scikit-learn.org/stable/modules/generated/sklearn.linear_model.LinearRegression.html) to learn all about the linear model predictor object.\n"
   ]
  },
  {
   "cell_type": "code",
   "execution_count": 15,
   "id": "c93b6c09-bc05-4984-8550-b47a638bc2fa",
   "metadata": {},
   "outputs": [
    {
     "name": "stdout",
     "output_type": "stream",
     "text": [
      "Coefficients:  38.992978724434046\n",
      "Intercept:  126.2897021740873\n"
     ]
    }
   ],
   "source": [
    "from sklearn import linear_model\n",
    "\n",
    "# create a model object\n",
    "regressor = linear_model.LinearRegression()\n",
    "\n",
    "# train the model on the training data\n",
    "# X_train is a 1-D array but sklearn models expect a 2D array as input for the training data, with shape (n_observations, n_features).\n",
    "# So we need to reshape it. We can let it infer the number of observations using '-1'.\n",
    "regressor.fit(X_train.reshape(-1, 1), y_train)\n",
    "\n",
    "# Print the coefficients\n",
    "print ('Coefficients: ', regressor.coef_[0]) # with simple linear regression there is only one coefficient, here we extract it from the 1 by 1 array.\n",
    "print ('Intercept: ',regressor.intercept_)"
   ]
  },
  {
   "cell_type": "markdown",
   "id": "5c040c74-fc6b-43ff-be20-ede95be9e9e7",
   "metadata": {},
   "source": [
    "Here, __Coefficient__ and __Intercept__ are the regression parameters determined by the model.  \n",
    "They define the slope and intercept of the 'best-fit' line to the training data. \n"
   ]
  },
  {
   "cell_type": "markdown",
   "id": "363d577f-04e5-45d2-9e9d-97425146e5c4",
   "metadata": {},
   "source": [
    "### Visualize model outputs\n"
   ]
  },
  {
   "cell_type": "markdown",
   "id": "10bda3d8-6f9c-4f4a-8ed8-52f1187132d7",
   "metadata": {},
   "source": [
    "You can visualize the goodness-of-fit of the model to the training data by plotting the fitted line over the data.\n",
    "\n",
    "The regression model is the line given by y = intercept + coefficient * x.\n"
   ]
  },
  {
   "cell_type": "code",
   "execution_count": 16,
   "id": "3e5e1558-a766-41c8-813c-a92316a30dc0",
   "metadata": {},
   "outputs": [
    {
     "data": {
      "text/plain": [
       "Text(0, 0.5, 'Emission')"
      ]
     },
     "execution_count": 16,
     "metadata": {},
     "output_type": "execute_result"
    },
    {
     "data": {
      "image/png": "[encoded data removed]",
      "text/plain": [
       "<Figure size 640x480 with 1 Axes>"
      ]
     },
     "metadata": {},
     "output_type": "display_data"
    }
   ],
   "source": [
    "plt.scatter(X_train, y_train,  color='blue')\n",
    "plt.plot(X_train, regressor.coef_ * X_train + regressor.intercept_, '-r')\n",
    "plt.xlabel(\"Engine size\")\n",
    "plt.ylabel(\"Emission\")"
   ]
  },
  {
   "cell_type": "markdown",
   "id": "b54296e0-2902-4124-84b4-6136cd97de4b",
   "metadata": {},
   "source": [
    "#### Model evaluation\n",
    "You can compare the actual values and predicted values to calculate the accuracy of a regression model. Evaluation metrics play a key role in the development of a model, as they provide insight into areas that require improvement.\n",
    "\n",
    "There are different model evaluation metrics, let's use MSE here to calculate the accuracy of our model based on the test set: \n",
    "* Mean Absolute Error: It is the mean of the absolute value of the errors. This is the easiest of the metrics to understand since it’s just an average error.\n",
    "\n",
    "* Mean Squared Error (MSE): MSE is the mean of the squared error. In fact, it's the metric used by the model to find the best fit line, and for that reason, it is also called the residual sum of squares.\n",
    "\n",
    "* Root Mean Squared Error (RMSE). RMSE simply transforms the MSE into the same units as the variables being compared, which can make it easier to interpret.\n",
    "\n",
    "* R-squared is not an error but rather a popular metric used to estimate the performance of your regression model. It represents how close the data points are to the fitted regression line. The higher the R-squared value, the better the model fits your data. The best possible score is 1.0 and it can be negative (because the model can be arbitrarily worse).\n"
   ]
  },
  {
   "cell_type": "code",
   "execution_count": 17,
   "id": "ae4aaf9a-35c4-41fc-a066-430331d37a52",
   "metadata": {},
   "outputs": [
    {
     "name": "stdout",
     "output_type": "stream",
     "text": [
      "Mean absolute error: 24.10\n",
      "Mean squared error: 985.94\n",
      "Root mean squared error: 31.40\n",
      "R2-score: 0.76\n"
     ]
    }
   ],
   "source": [
    "from sklearn.metrics import mean_absolute_error, mean_squared_error, r2_score\n",
    "\n",
    "# Use the predict method to make test predictions\n",
    "y_test_ = regressor.predict(X_test.reshape(-1,1))\n",
    "\n",
    "# Evaluation\n",
    "print(\"Mean absolute error: %.2f\" % mean_absolute_error(y_test, y_test_))\n",
    "print(\"Mean squared error: %.2f\" % mean_squared_error(y_test, y_test_))\n",
    "print(\"Root mean squared error: %.2f\" % np.sqrt(mean_squared_error(y_test, y_test_)))\n",
    "print(\"R2-score: %.2f\" % r2_score(y_test, y_test_))"
   ]
  },
  {
   "cell_type": "markdown",
   "id": "2be02361-63d7-45ff-a026-4c00b06672d5",
   "metadata": {},
   "source": [
    "## Practice exercises\n"
   ]
  },
  {
   "cell_type": "markdown",
   "id": "3029bab7-6daa-4905-8c67-a20628fb99c7",
   "metadata": {},
   "source": [
    "#### 1. Plot the regression model result over the test data instead of the training data. Visually evaluate whether the result is good.\n"
   ]
  },
  {
   "cell_type": "code",
   "execution_count": 18,
   "id": "ec820875-3945-45fd-bcf7-c8e52269b8f9",
   "metadata": {},
   "outputs": [
    {
     "data": {
      "text/plain": [
       "Text(0, 0.5, 'Emission')"
      ]
     },
     "execution_count": 18,
     "metadata": {},
     "output_type": "execute_result"
    },
    {
     "data": {
      "image/png": "[encoded data removed]",
      "text/plain": [
       "<Figure size 640x480 with 1 Axes>"
      ]
     },
     "metadata": {},
     "output_type": "display_data"
    }
   ],
   "source": [
    "plt.scatter(X_test, y_test,  color='blue')\n",
    "plt.plot(X_test, regressor.coef_ * X_test + regressor.intercept_, '-r')\n",
    "plt.xlabel(\"Engine size\")\n",
    "plt.ylabel(\"Emission\")"
   ]
  },
  {
   "cell_type": "markdown",
   "id": "dbf399b8-fd20-4707-bac7-fe9c1e6a698f",
   "metadata": {},
   "source": [
    "<details><summary>Click here for the solution</summary>\n",
    "\n",
    "```python    \n",
    "plt.scatter(X_test, y_test,  color='blue')\n",
    "plt.plot(X_test, regressor.coef_ * X_test + regressor.intercept_, '-r')\n",
    "plt.xlabel(\"Engine size\")\n",
    "plt.ylabel(\"Emission\")\n",
    "```\n",
    "\n",
    "</details>\n"
   ]
  },
  {
   "cell_type": "markdown",
   "id": "e492ebc9-7381-4bc4-a4e9-18481d6f5e66",
   "metadata": {},
   "source": [
    "Let's see the evaluation metrics if you train a regression model using the `FUELCONSUMPTION_COMB` feature.\n",
    "\n",
    "#### 2. Select the fuel consumption feature from the dataframe and split the data 80%/20% into training and testing sets. \n",
    "Use the same random state as previously so you can make an objective comparison to the previous training result.\n"
   ]
  },
  {
   "cell_type": "code",
   "execution_count": 19,
   "id": "46d39e75-fefa-4179-af70-bfc13c640ff1",
   "metadata": {},
   "outputs": [],
   "source": [
    "# ADD CODE\n",
    "X = cdf.FUELCONSUMPTION_COMB \n",
    "\n",
    "#ADD CODE\n",
    "X_train, X_test, y_train, y_test = train_test_split(X,y,test_size=0.2,random_state=42)\n"
   ]
  },
  {
   "cell_type": "markdown",
   "id": "74ae65d1-0ede-4800-a622-6e88b1bccb7e",
   "metadata": {},
   "source": [
    "<details><summary>Click here for the solution</summary>\n",
    "\n",
    "```python    \n",
    "X = cdf.FUELCONSUMPTION_COMB.to_numpy()\n",
    "X_train, X_test, y_train, y_test = train_test_split(X,y,test_size=0.2,random_state=42)\n",
    "```\n",
    "\n",
    "</details>\n"
   ]
  },
  {
   "cell_type": "markdown",
   "id": "955e6355-f655-404c-b501-09987dcd7bb1",
   "metadata": {},
   "source": [
    "#### 3.  Train a linear regression model using the training data you created.\n",
    "Remember to transform your 1D feature into a 2D array. \n"
   ]
  },
  {
   "cell_type": "code",
   "execution_count": 23,
   "id": "8ac4f44b-0785-4c68-8155-ff37970f1a07",
   "metadata": {},
   "outputs": [
    {
     "data": {
      "text/html": [
       "<style>#sk-container-id-1 {\n",
       "  /* Definition of color scheme common for light and dark mode */\n",
       "  --sklearn-color-text: #000;\n",
       "  --sklearn-color-text-muted: #666;\n",
       "  --sklearn-color-line: gray;\n",
       "  /* Definition of color scheme for unfitted estimators */\n",
       "  --sklearn-color-unfitted-level-0: #fff5e6;\n",
       "  --sklearn-color-unfitted-level-1: #f6e4d2;\n",
       "  --sklearn-color-unfitted-level-2: #ffe0b3;\n",
       "  --sklearn-color-unfitted-level-3: chocolate;\n",
       "  /* Definition of color scheme for fitted estimators */\n",
       "  --sklearn-color-fitted-level-0: #f0f8ff;\n",
       "  --sklearn-color-fitted-level-1: #d4ebff;\n",
       "  --sklearn-color-fitted-level-2: #b3dbfd;\n",
       "  --sklearn-color-fitted-level-3: cornflowerblue;\n",
       "\n",
       "  /* Specific color for light theme */\n",
       "  --sklearn-color-text-on-default-background: var(--sg-text-color, var(--theme-code-foreground, var(--jp-content-font-color1, black)));\n",
       "  --sklearn-color-background: var(--sg-background-color, var(--theme-background, var(--jp-layout-color0, white)));\n",
       "  --sklearn-color-border-box: var(--sg-text-color, var(--theme-code-foreground, var(--jp-content-font-color1, black)));\n",
       "  --sklearn-color-icon: #696969;\n",
       "\n",
       "  @media (prefers-color-scheme: dark) {\n",
       "    /* Redefinition of color scheme for dark theme */\n",
       "    --sklearn-color-text-on-default-background: var(--sg-text-color, var(--theme-code-foreground, var(--jp-content-font-color1, white)));\n",
       "    --sklearn-color-background: var(--sg-background-color, var(--theme-background, var(--jp-layout-color0, #111)));\n",
       "    --sklearn-color-border-box: var(--sg-text-color, var(--theme-code-foreground, var(--jp-content-font-color1, white)));\n",
       "    --sklearn-color-icon: #878787;\n",
       "  }\n",
       "}\n",
       "\n",
       "#sk-container-id-1 {\n",
       "  color: var(--sklearn-color-text);\n",
       "}\n",
       "\n",
       "#sk-container-id-1 pre {\n",
       "  padding: 0;\n",
       "}\n",
       "\n",
       "#sk-container-id-1 input.sk-hidden--visually {\n",
       "  border: 0;\n",
       "  clip: rect(1px 1px 1px 1px);\n",
       "  clip: rect(1px, 1px, 1px, 1px);\n",
       "  height: 1px;\n",
       "  margin: -1px;\n",
       "  overflow: hidden;\n",
       "  padding: 0;\n",
       "  position: absolute;\n",
       "  width: 1px;\n",
       "}\n",
       "\n",
       "#sk-container-id-1 div.sk-dashed-wrapped {\n",
       "  border: 1px dashed var(--sklearn-color-line);\n",
       "  margin: 0 0.4em 0.5em 0.4em;\n",
       "  box-sizing: border-box;\n",
       "  padding-bottom: 0.4em;\n",
       "  background-color: var(--sklearn-color-background);\n",
       "}\n",
       "\n",
       "#sk-container-id-1 div.sk-container {\n",
       "  /* jupyter's `normalize.less` sets `[hidden] { display: none; }`\n",
       "     but bootstrap.min.css set `[hidden] { display: none !important; }`\n",
       "     so we also need the `!important` here to be able to override the\n",
       "     default hidden behavior on the sphinx rendered scikit-learn.org.\n",
       "     See: https://github.com/scikit-learn/scikit-learn/issues/21755 */\n",
       "  display: inline-block !important;\n",
       "  position: relative;\n",
       "}\n",
       "\n",
       "#sk-container-id-1 div.sk-text-repr-fallback {\n",
       "  display: none;\n",
       "}\n",
       "\n",
       "div.sk-parallel-item,\n",
       "div.sk-serial,\n",
       "div.sk-item {\n",
       "  /* draw centered vertical line to link estimators */\n",
       "  background-image: linear-gradient(var(--sklearn-color-text-on-default-background), var(--sklearn-color-text-on-default-background));\n",
       "  background-size: 2px 100%;\n",
       "  background-repeat: no-repeat;\n",
       "  background-position: center center;\n",
       "}\n",
       "\n",
       "/* Parallel-specific style estimator block */\n",
       "\n",
       "#sk-container-id-1 div.sk-parallel-item::after {\n",
       "  content: \"\";\n",
       "  width: 100%;\n",
       "  border-bottom: 2px solid var(--sklearn-color-text-on-default-background);\n",
       "  flex-grow: 1;\n",
       "}\n",
       "\n",
       "#sk-container-id-1 div.sk-parallel {\n",
       "  display: flex;\n",
       "  align-items: stretch;\n",
       "  justify-content: center;\n",
       "  background-color: var(--sklearn-color-background);\n",
       "  position: relative;\n",
       "}\n",
       "\n",
       "#sk-container-id-1 div.sk-parallel-item {\n",
       "  display: flex;\n",
       "  flex-direction: column;\n",
       "}\n",
       "\n",
       "#sk-container-id-1 div.sk-parallel-item:first-child::after {\n",
       "  align-self: flex-end;\n",
       "  width: 50%;\n",
       "}\n",
       "\n",
       "#sk-container-id-1 div.sk-parallel-item:last-child::after {\n",
       "  align-self: flex-start;\n",
       "  width: 50%;\n",
       "}\n",
       "\n",
       "#sk-container-id-1 div.sk-parallel-item:only-child::after {\n",
       "  width: 0;\n",
       "}\n",
       "\n",
       "/* Serial-specific style estimator block */\n",
       "\n",
       "#sk-container-id-1 div.sk-serial {\n",
       "  display: flex;\n",
       "  flex-direction: column;\n",
       "  align-items: center;\n",
       "  background-color: var(--sklearn-color-background);\n",
       "  padding-right: 1em;\n",
       "  padding-left: 1em;\n",
       "}\n",
       "\n",
       "\n",
       "/* Toggleable style: style used for estimator/Pipeline/ColumnTransformer box that is\n",
       "clickable and can be expanded/collapsed.\n",
       "- Pipeline and ColumnTransformer use this feature and define the default style\n",
       "- Estimators will overwrite some part of the style using the `sk-estimator` class\n",
       "*/\n",
       "\n",
       "/* Pipeline and ColumnTransformer style (default) */\n",
       "\n",
       "#sk-container-id-1 div.sk-toggleable {\n",
       "  /* Default theme specific background. It is overwritten whether we have a\n",
       "  specific estimator or a Pipeline/ColumnTransformer */\n",
       "  background-color: var(--sklearn-color-background);\n",
       "}\n",
       "\n",
       "/* Toggleable label */\n",
       "#sk-container-id-1 label.sk-toggleable__label {\n",
       "  cursor: pointer;\n",
       "  display: flex;\n",
       "  width: 100%;\n",
       "  margin-bottom: 0;\n",
       "  padding: 0.5em;\n",
       "  box-sizing: border-box;\n",
       "  text-align: center;\n",
       "  align-items: start;\n",
       "  justify-content: space-between;\n",
       "  gap: 0.5em;\n",
       "}\n",
       "\n",
       "#sk-container-id-1 label.sk-toggleable__label .caption {\n",
       "  font-size: 0.6rem;\n",
       "  font-weight: lighter;\n",
       "  color: var(--sklearn-color-text-muted);\n",
       "}\n",
       "\n",
       "#sk-container-id-1 label.sk-toggleable__label-arrow:before {\n",
       "  /* Arrow on the left of the label */\n",
       "  content: \"▸\";\n",
       "  float: left;\n",
       "  margin-right: 0.25em;\n",
       "  color: var(--sklearn-color-icon);\n",
       "}\n",
       "\n",
       "#sk-container-id-1 label.sk-toggleable__label-arrow:hover:before {\n",
       "  color: var(--sklearn-color-text);\n",
       "}\n",
       "\n",
       "/* Toggleable content - dropdown */\n",
       "\n",
       "#sk-container-id-1 div.sk-toggleable__content {\n",
       "  max-height: 0;\n",
       "  max-width: 0;\n",
       "  overflow: hidden;\n",
       "  text-align: left;\n",
       "  /* unfitted */\n",
       "  background-color: var(--sklearn-color-unfitted-level-0);\n",
       "}\n",
       "\n",
       "#sk-container-id-1 div.sk-toggleable__content.fitted {\n",
       "  /* fitted */\n",
       "  background-color: var(--sklearn-color-fitted-level-0);\n",
       "}\n",
       "\n",
       "#sk-container-id-1 div.sk-toggleable__content pre {\n",
       "  margin: 0.2em;\n",
       "  border-radius: 0.25em;\n",
       "  color: var(--sklearn-color-text);\n",
       "  /* unfitted */\n",
       "  background-color: var(--sklearn-color-unfitted-level-0);\n",
       "}\n",
       "\n",
       "#sk-container-id-1 div.sk-toggleable__content.fitted pre {\n",
       "  /* unfitted */\n",
       "  background-color: var(--sklearn-color-fitted-level-0);\n",
       "}\n",
       "\n",
       "#sk-container-id-1 input.sk-toggleable__control:checked~div.sk-toggleable__content {\n",
       "  /* Expand drop-down */\n",
       "  max-height: 200px;\n",
       "  max-width: 100%;\n",
       "  overflow: auto;\n",
       "}\n",
       "\n",
       "#sk-container-id-1 input.sk-toggleable__control:checked~label.sk-toggleable__label-arrow:before {\n",
       "  content: \"▾\";\n",
       "}\n",
       "\n",
       "/* Pipeline/ColumnTransformer-specific style */\n",
       "\n",
       "#sk-container-id-1 div.sk-label input.sk-toggleable__control:checked~label.sk-toggleable__label {\n",
       "  color: var(--sklearn-color-text);\n",
       "  background-color: var(--sklearn-color-unfitted-level-2);\n",
       "}\n",
       "\n",
       "#sk-container-id-1 div.sk-label.fitted input.sk-toggleable__control:checked~label.sk-toggleable__label {\n",
       "  background-color: var(--sklearn-color-fitted-level-2);\n",
       "}\n",
       "\n",
       "/* Estimator-specific style */\n",
       "\n",
       "/* Colorize estimator box */\n",
       "#sk-container-id-1 div.sk-estimator input.sk-toggleable__control:checked~label.sk-toggleable__label {\n",
       "  /* unfitted */\n",
       "  background-color: var(--sklearn-color-unfitted-level-2);\n",
       "}\n",
       "\n",
       "#sk-container-id-1 div.sk-estimator.fitted input.sk-toggleable__control:checked~label.sk-toggleable__label {\n",
       "  /* fitted */\n",
       "  background-color: var(--sklearn-color-fitted-level-2);\n",
       "}\n",
       "\n",
       "#sk-container-id-1 div.sk-label label.sk-toggleable__label,\n",
       "#sk-container-id-1 div.sk-label label {\n",
       "  /* The background is the default theme color */\n",
       "  color: var(--sklearn-color-text-on-default-background);\n",
       "}\n",
       "\n",
       "/* On hover, darken the color of the background */\n",
       "#sk-container-id-1 div.sk-label:hover label.sk-toggleable__label {\n",
       "  color: var(--sklearn-color-text);\n",
       "  background-color: var(--sklearn-color-unfitted-level-2);\n",
       "}\n",
       "\n",
       "/* Label box, darken color on hover, fitted */\n",
       "#sk-container-id-1 div.sk-label.fitted:hover label.sk-toggleable__label.fitted {\n",
       "  color: var(--sklearn-color-text);\n",
       "  background-color: var(--sklearn-color-fitted-level-2);\n",
       "}\n",
       "\n",
       "/* Estimator label */\n",
       "\n",
       "#sk-container-id-1 div.sk-label label {\n",
       "  font-family: monospace;\n",
       "  font-weight: bold;\n",
       "  display: inline-block;\n",
       "  line-height: 1.2em;\n",
       "}\n",
       "\n",
       "#sk-container-id-1 div.sk-label-container {\n",
       "  text-align: center;\n",
       "}\n",
       "\n",
       "/* Estimator-specific */\n",
       "#sk-container-id-1 div.sk-estimator {\n",
       "  font-family: monospace;\n",
       "  border: 1px dotted var(--sklearn-color-border-box);\n",
       "  border-radius: 0.25em;\n",
       "  box-sizing: border-box;\n",
       "  margin-bottom: 0.5em;\n",
       "  /* unfitted */\n",
       "  background-color: var(--sklearn-color-unfitted-level-0);\n",
       "}\n",
       "\n",
       "#sk-container-id-1 div.sk-estimator.fitted {\n",
       "  /* fitted */\n",
       "  background-color: var(--sklearn-color-fitted-level-0);\n",
       "}\n",
       "\n",
       "/* on hover */\n",
       "#sk-container-id-1 div.sk-estimator:hover {\n",
       "  /* unfitted */\n",
       "  background-color: var(--sklearn-color-unfitted-level-2);\n",
       "}\n",
       "\n",
       "#sk-container-id-1 div.sk-estimator.fitted:hover {\n",
       "  /* fitted */\n",
       "  background-color: var(--sklearn-color-fitted-level-2);\n",
       "}\n",
       "\n",
       "/* Specification for estimator info (e.g. \"i\" and \"?\") */\n",
       "\n",
       "/* Common style for \"i\" and \"?\" */\n",
       "\n",
       ".sk-estimator-doc-link,\n",
       "a:link.sk-estimator-doc-link,\n",
       "a:visited.sk-estimator-doc-link {\n",
       "  float: right;\n",
       "  font-size: smaller;\n",
       "  line-height: 1em;\n",
       "  font-family: monospace;\n",
       "  background-color: var(--sklearn-color-background);\n",
       "  border-radius: 1em;\n",
       "  height: 1em;\n",
       "  width: 1em;\n",
       "  text-decoration: none !important;\n",
       "  margin-left: 0.5em;\n",
       "  text-align: center;\n",
       "  /* unfitted */\n",
       "  border: var(--sklearn-color-unfitted-level-1) 1pt solid;\n",
       "  color: var(--sklearn-color-unfitted-level-1);\n",
       "}\n",
       "\n",
       ".sk-estimator-doc-link.fitted,\n",
       "a:link.sk-estimator-doc-link.fitted,\n",
       "a:visited.sk-estimator-doc-link.fitted {\n",
       "  /* fitted */\n",
       "  border: var(--sklearn-color-fitted-level-1) 1pt solid;\n",
       "  color: var(--sklearn-color-fitted-level-1);\n",
       "}\n",
       "\n",
       "/* On hover */\n",
       "div.sk-estimator:hover .sk-estimator-doc-link:hover,\n",
       ".sk-estimator-doc-link:hover,\n",
       "div.sk-label-container:hover .sk-estimator-doc-link:hover,\n",
       ".sk-estimator-doc-link:hover {\n",
       "  /* unfitted */\n",
       "  background-color: var(--sklearn-color-unfitted-level-3);\n",
       "  color: var(--sklearn-color-background);\n",
       "  text-decoration: none;\n",
       "}\n",
       "\n",
       "div.sk-estimator.fitted:hover .sk-estimator-doc-link.fitted:hover,\n",
       ".sk-estimator-doc-link.fitted:hover,\n",
       "div.sk-label-container:hover .sk-estimator-doc-link.fitted:hover,\n",
       ".sk-estimator-doc-link.fitted:hover {\n",
       "  /* fitted */\n",
       "  background-color: var(--sklearn-color-fitted-level-3);\n",
       "  color: var(--sklearn-color-background);\n",
       "  text-decoration: none;\n",
       "}\n",
       "\n",
       "/* Span, style for the box shown on hovering the info icon */\n",
       ".sk-estimator-doc-link span {\n",
       "  display: none;\n",
       "  z-index: 9999;\n",
       "  position: relative;\n",
       "  font-weight: normal;\n",
       "  right: .2ex;\n",
       "  padding: .5ex;\n",
       "  margin: .5ex;\n",
       "  width: min-content;\n",
       "  min-width: 20ex;\n",
       "  max-width: 50ex;\n",
       "  color: var(--sklearn-color-text);\n",
       "  box-shadow: 2pt 2pt 4pt #999;\n",
       "  /* unfitted */\n",
       "  background: var(--sklearn-color-unfitted-level-0);\n",
       "  border: .5pt solid var(--sklearn-color-unfitted-level-3);\n",
       "}\n",
       "\n",
       ".sk-estimator-doc-link.fitted span {\n",
       "  /* fitted */\n",
       "  background: var(--sklearn-color-fitted-level-0);\n",
       "  border: var(--sklearn-color-fitted-level-3);\n",
       "}\n",
       "\n",
       ".sk-estimator-doc-link:hover span {\n",
       "  display: block;\n",
       "}\n",
       "\n",
       "/* \"?\"-specific style due to the `<a>` HTML tag */\n",
       "\n",
       "#sk-container-id-1 a.estimator_doc_link {\n",
       "  float: right;\n",
       "  font-size: 1rem;\n",
       "  line-height: 1em;\n",
       "  font-family: monospace;\n",
       "  background-color: var(--sklearn-color-background);\n",
       "  border-radius: 1rem;\n",
       "  height: 1rem;\n",
       "  width: 1rem;\n",
       "  text-decoration: none;\n",
       "  /* unfitted */\n",
       "  color: var(--sklearn-color-unfitted-level-1);\n",
       "  border: var(--sklearn-color-unfitted-level-1) 1pt solid;\n",
       "}\n",
       "\n",
       "#sk-container-id-1 a.estimator_doc_link.fitted {\n",
       "  /* fitted */\n",
       "  border: var(--sklearn-color-fitted-level-1) 1pt solid;\n",
       "  color: var(--sklearn-color-fitted-level-1);\n",
       "}\n",
       "\n",
       "/* On hover */\n",
       "#sk-container-id-1 a.estimator_doc_link:hover {\n",
       "  /* unfitted */\n",
       "  background-color: var(--sklearn-color-unfitted-level-3);\n",
       "  color: var(--sklearn-color-background);\n",
       "  text-decoration: none;\n",
       "}\n",
       "\n",
       "#sk-container-id-1 a.estimator_doc_link.fitted:hover {\n",
       "  /* fitted */\n",
       "  background-color: var(--sklearn-color-fitted-level-3);\n",
       "}\n",
       "</style><div id=\"sk-container-id-1\" class=\"sk-top-container\"><div class=\"sk-text-repr-fallback\"><pre>LinearRegression()</pre><b>In a Jupyter environment, please rerun this cell to show the HTML representation or trust the notebook. <br />On GitHub, the HTML representation is unable to render, please try loading this page with nbviewer.org.</b></div><div class=\"sk-container\" hidden><div class=\"sk-item\"><div class=\"sk-estimator fitted sk-toggleable\"><input class=\"sk-toggleable__control sk-hidden--visually\" id=\"sk-estimator-id-1\" type=\"checkbox\" checked><label for=\"sk-estimator-id-1\" class=\"sk-toggleable__label fitted sk-toggleable__label-arrow\"><div><div>LinearRegression</div></div><div><a class=\"sk-estimator-doc-link fitted\" rel=\"noreferrer\" target=\"_blank\" href=\"https://scikit-learn.org/1.6/modules/generated/sklearn.linear_model.LinearRegression.html\">?<span>Documentation for LinearRegression</span></a><span class=\"sk-estimator-doc-link fitted\">i<span>Fitted</span></span></div></label><div class=\"sk-toggleable__content fitted\"><pre>LinearRegression()</pre></div> </div></div></div></div>"
      ],
      "text/plain": [
       "LinearRegression()"
      ]
     },
     "execution_count": 23,
     "metadata": {},
     "output_type": "execute_result"
    }
   ],
   "source": [
    "# ADD CODE\n",
    "regr = linear_model.LinearRegression()\n",
    "\n",
    "#ADD CODE\n",
    "regr.fit(X_train.to_numpy().reshape(-1, 1), y_train)"
   ]
  },
  {
   "cell_type": "markdown",
   "id": "4c696de5-3fd6-4bb9-8420-8cdd19bc2457",
   "metadata": {},
   "source": [
    "<details><summary>Click here for the solution</summary>\n",
    "\n",
    "```python    \n",
    "regr = linear_model.LinearRegression()\n",
    "regr.fit(X_train.reshape(-1, 1), y_train)\n",
    "\n",
    "```\n",
    "\n",
    "</details>\n"
   ]
  },
  {
   "cell_type": "markdown",
   "id": "251a4a76-cd93-48d9-be44-39a8cc7450bb",
   "metadata": {},
   "source": [
    "#### 4. Use the model to make test predictions on the fuel consumption testing data.\n"
   ]
  },
  {
   "cell_type": "code",
   "execution_count": 25,
   "id": "4f70e53a-60d4-4449-95f4-7e8a28397af1",
   "metadata": {},
   "outputs": [],
   "source": [
    "# ADD CODE\n",
    "y_test_ = regr.predict(X_test.to_numpy().reshape(-1,1))"
   ]
  },
  {
   "cell_type": "markdown",
   "id": "bfcf9bf2-2c4d-418a-b8a1-7e1ccc6d28ad",
   "metadata": {},
   "source": [
    "<details><summary>Click here for the solution</summary>\n",
    "\n",
    "```python    \n",
    "y_test_ = regr.predict(X_test.reshape(-1,1))\n",
    "\n",
    "```\n",
    "\n",
    "</details>\n"
   ]
  },
  {
   "cell_type": "markdown",
   "id": "fd92d7c5-3120-4451-99e5-ff88493de9d7",
   "metadata": {},
   "source": [
    "#### 5. Calculate and print the Mean Squared Error of the test predictions.\n"
   ]
  },
  {
   "cell_type": "code",
   "execution_count": 27,
   "id": "8ca32c5f-92b6-4680-a368-ddbd6ceb500e",
   "metadata": {},
   "outputs": [
    {
     "name": "stdout",
     "output_type": "stream",
     "text": [
      "Mean squared error: 797.43\n",
      "R 2-score: 0.81\n"
     ]
    }
   ],
   "source": [
    "# ADD CODE\n",
    "print(\"Mean squared error: %.2f\" % mean_squared_error(y_test, y_test_))\n",
    "print(\"R 2-score: %.2f\" % r2_score(y_test, y_test_))"
   ]
  },
  {
   "cell_type": "markdown",
   "id": "e15079ab-83a8-4961-8410-a50f39aa5846",
   "metadata": {},
   "source": [
    "<details><summary>Click here for the solution</summary>\n",
    "\n",
    "```python    \n",
    "print(\"Mean squared error: %.2f\" % mean_squared_error(y_test, y_test_))\n",
    "```\n",
    "\n",
    "</details>\n"
   ]
  },
  {
   "cell_type": "markdown",
   "id": "7414b4dc-eaa9-49cf-a6db-8ad73bf9ec2d",
   "metadata": {},
   "source": [
    "As you might expect from your exploratory analysis, the MSE is smaller when we train using `FUELCONSUMPTION_COMB` rather than `ENGINESIZE`.\n"
   ]
  },
  {
   "cell_type": "markdown",
   "id": "3179fe67-df18-4677-ab96-18c82e113313",
   "metadata": {},
   "source": [
    "### Congratulations! You're ready to move on to your next lesson.\n",
    " \n",
    " \n",
    "## Author\n",
    "<a href=\"https://www.linkedin.com/in/jpgrossman/\" target=\"_blank\">Jeff Grossman</a>  \n",
    " \n",
    " ### Other Contributors\n",
    " <a href=\"https://www.linkedin.com/in/abhishek-gagneja-23051987/\" target=\"_blank\">Abhishek Gagneja</a>\n",
    "\n",
    " ## <h3 align=\"center\"> © IBM Corporation. All rights reserved. <h3/>\n",
    "\n",
    "<!--\n",
    "## Changelog\n",
    "| Date | Version | Changed by | Change Description |\n",
    "|------------|------|------------------|---------------------------------------|\n",
    "| 2024-07-26 | 3.0  | Jeff Grossman    | Update content and practice exercises |\n",
    "| 2020-11-03 | 2.1  | Lakshmi Holla    | Change URL of the csv |\n",
    "| 2020-08-27 | 2.0  | Lavanya          | Move lab to course repo in GitLab |\n",
    "\n"
   ]
  }
 ],
 "metadata": {
  "kernelspec": {
   "display_name": "langchain_env",
   "language": "python",
   "name": "python3"
  },
  "language_info": {
   "codemirror_mode": {
    "name": "ipython",
    "version": 3
   },
   "file_extension": ".py",
   "mimetype": "text/x-python",
   "name": "python",
   "nbconvert_exporter": "python",
   "pygments_lexer": "ipython3",
   "version": "3.12.9"
  },
  "prev_pub_hash": "7b1d42d9ec3c4f3bf702111d61b0d2ff8299adbdc605602cc3b3a43c6e7f2bc6"
 },
 "nbformat": 4,
 "nbformat_minor": 4
}
